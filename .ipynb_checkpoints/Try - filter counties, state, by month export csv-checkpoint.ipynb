{
 "cells": [
  {
   "cell_type": "markdown",
   "metadata": {},
   "source": [
    "NYTimes GitHub: \n",
    "\n",
    "~U.S. counties data"
   ]
  },
  {
   "cell_type": "code",
   "execution_count": 1,
   "metadata": {},
   "outputs": [],
   "source": [
    "# Dependencies\n",
    "import pandas as pd\n",
    "import numpy as np\n",
    "import datetime"
   ]
  },
  {
   "cell_type": "code",
   "execution_count": 2,
   "metadata": {},
   "outputs": [],
   "source": [
    "# Store filepath in a variable\n",
    "file_one = \"data/us-counties.txt\"\n",
    "us_counties = pd.read_csv(file_one)"
   ]
  },
  {
   "cell_type": "code",
   "execution_count": 3,
   "metadata": {},
   "outputs": [
    {
     "data": {
      "text/html": [
       "<div>\n",
       "<style scoped>\n",
       "    .dataframe tbody tr th:only-of-type {\n",
       "        vertical-align: middle;\n",
       "    }\n",
       "\n",
       "    .dataframe tbody tr th {\n",
       "        vertical-align: top;\n",
       "    }\n",
       "\n",
       "    .dataframe thead th {\n",
       "        text-align: right;\n",
       "    }\n",
       "</style>\n",
       "<table border=\"1\" class=\"dataframe\">\n",
       "  <thead>\n",
       "    <tr style=\"text-align: right;\">\n",
       "      <th></th>\n",
       "      <th>date</th>\n",
       "      <th>county</th>\n",
       "      <th>state</th>\n",
       "      <th>fips</th>\n",
       "      <th>cases</th>\n",
       "      <th>deaths</th>\n",
       "    </tr>\n",
       "  </thead>\n",
       "  <tbody>\n",
       "    <tr>\n",
       "      <th>0</th>\n",
       "      <td>2020-01-21</td>\n",
       "      <td>Snohomish</td>\n",
       "      <td>Washington</td>\n",
       "      <td>53061.0</td>\n",
       "      <td>1</td>\n",
       "      <td>0.0</td>\n",
       "    </tr>\n",
       "    <tr>\n",
       "      <th>1</th>\n",
       "      <td>2020-01-22</td>\n",
       "      <td>Snohomish</td>\n",
       "      <td>Washington</td>\n",
       "      <td>53061.0</td>\n",
       "      <td>1</td>\n",
       "      <td>0.0</td>\n",
       "    </tr>\n",
       "    <tr>\n",
       "      <th>2</th>\n",
       "      <td>2020-01-23</td>\n",
       "      <td>Snohomish</td>\n",
       "      <td>Washington</td>\n",
       "      <td>53061.0</td>\n",
       "      <td>1</td>\n",
       "      <td>0.0</td>\n",
       "    </tr>\n",
       "    <tr>\n",
       "      <th>3</th>\n",
       "      <td>2020-01-24</td>\n",
       "      <td>Cook</td>\n",
       "      <td>Illinois</td>\n",
       "      <td>17031.0</td>\n",
       "      <td>1</td>\n",
       "      <td>0.0</td>\n",
       "    </tr>\n",
       "    <tr>\n",
       "      <th>4</th>\n",
       "      <td>2020-01-24</td>\n",
       "      <td>Snohomish</td>\n",
       "      <td>Washington</td>\n",
       "      <td>53061.0</td>\n",
       "      <td>1</td>\n",
       "      <td>0.0</td>\n",
       "    </tr>\n",
       "    <tr>\n",
       "      <th>...</th>\n",
       "      <td>...</td>\n",
       "      <td>...</td>\n",
       "      <td>...</td>\n",
       "      <td>...</td>\n",
       "      <td>...</td>\n",
       "      <td>...</td>\n",
       "    </tr>\n",
       "    <tr>\n",
       "      <th>972436</th>\n",
       "      <td>2021-01-27</td>\n",
       "      <td>Sweetwater</td>\n",
       "      <td>Wyoming</td>\n",
       "      <td>56037.0</td>\n",
       "      <td>3428</td>\n",
       "      <td>32.0</td>\n",
       "    </tr>\n",
       "    <tr>\n",
       "      <th>972437</th>\n",
       "      <td>2021-01-27</td>\n",
       "      <td>Teton</td>\n",
       "      <td>Wyoming</td>\n",
       "      <td>56039.0</td>\n",
       "      <td>3020</td>\n",
       "      <td>6.0</td>\n",
       "    </tr>\n",
       "    <tr>\n",
       "      <th>972438</th>\n",
       "      <td>2021-01-27</td>\n",
       "      <td>Uinta</td>\n",
       "      <td>Wyoming</td>\n",
       "      <td>56041.0</td>\n",
       "      <td>1948</td>\n",
       "      <td>12.0</td>\n",
       "    </tr>\n",
       "    <tr>\n",
       "      <th>972439</th>\n",
       "      <td>2021-01-27</td>\n",
       "      <td>Washakie</td>\n",
       "      <td>Wyoming</td>\n",
       "      <td>56043.0</td>\n",
       "      <td>863</td>\n",
       "      <td>25.0</td>\n",
       "    </tr>\n",
       "    <tr>\n",
       "      <th>972440</th>\n",
       "      <td>2021-01-27</td>\n",
       "      <td>Weston</td>\n",
       "      <td>Wyoming</td>\n",
       "      <td>56045.0</td>\n",
       "      <td>610</td>\n",
       "      <td>4.0</td>\n",
       "    </tr>\n",
       "  </tbody>\n",
       "</table>\n",
       "<p>972441 rows × 6 columns</p>\n",
       "</div>"
      ],
      "text/plain": [
       "              date      county       state     fips  cases  deaths\n",
       "0       2020-01-21   Snohomish  Washington  53061.0      1     0.0\n",
       "1       2020-01-22   Snohomish  Washington  53061.0      1     0.0\n",
       "2       2020-01-23   Snohomish  Washington  53061.0      1     0.0\n",
       "3       2020-01-24        Cook    Illinois  17031.0      1     0.0\n",
       "4       2020-01-24   Snohomish  Washington  53061.0      1     0.0\n",
       "...            ...         ...         ...      ...    ...     ...\n",
       "972436  2021-01-27  Sweetwater     Wyoming  56037.0   3428    32.0\n",
       "972437  2021-01-27       Teton     Wyoming  56039.0   3020     6.0\n",
       "972438  2021-01-27       Uinta     Wyoming  56041.0   1948    12.0\n",
       "972439  2021-01-27    Washakie     Wyoming  56043.0    863    25.0\n",
       "972440  2021-01-27      Weston     Wyoming  56045.0    610     4.0\n",
       "\n",
       "[972441 rows x 6 columns]"
      ]
     },
     "execution_count": 3,
     "metadata": {},
     "output_type": "execute_result"
    }
   ],
   "source": [
    "us_counties"
   ]
  },
  {
   "cell_type": "code",
   "execution_count": 4,
   "metadata": {},
   "outputs": [
    {
     "data": {
      "text/plain": [
       "date       object\n",
       "county     object\n",
       "state      object\n",
       "fips      float64\n",
       "cases       int64\n",
       "deaths    float64\n",
       "dtype: object"
      ]
     },
     "execution_count": 4,
     "metadata": {},
     "output_type": "execute_result"
    }
   ],
   "source": [
    "us_counties.dtypes"
   ]
  },
  {
   "cell_type": "code",
   "execution_count": 10,
   "metadata": {},
   "outputs": [
    {
     "data": {
      "text/html": [
       "<div>\n",
       "<style scoped>\n",
       "    .dataframe tbody tr th:only-of-type {\n",
       "        vertical-align: middle;\n",
       "    }\n",
       "\n",
       "    .dataframe tbody tr th {\n",
       "        vertical-align: top;\n",
       "    }\n",
       "\n",
       "    .dataframe thead th {\n",
       "        text-align: right;\n",
       "    }\n",
       "</style>\n",
       "<table border=\"1\" class=\"dataframe\">\n",
       "  <thead>\n",
       "    <tr style=\"text-align: right;\">\n",
       "      <th></th>\n",
       "      <th>date</th>\n",
       "      <th>county</th>\n",
       "      <th>state</th>\n",
       "      <th>fips</th>\n",
       "      <th>cases</th>\n",
       "      <th>deaths</th>\n",
       "    </tr>\n",
       "  </thead>\n",
       "  <tbody>\n",
       "    <tr>\n",
       "      <th>411</th>\n",
       "      <td>2020-03-01</td>\n",
       "      <td>Hillsborough</td>\n",
       "      <td>Florida</td>\n",
       "      <td>12057.0</td>\n",
       "      <td>1</td>\n",
       "      <td>0.0</td>\n",
       "    </tr>\n",
       "    <tr>\n",
       "      <th>412</th>\n",
       "      <td>2020-03-01</td>\n",
       "      <td>Manatee</td>\n",
       "      <td>Florida</td>\n",
       "      <td>12081.0</td>\n",
       "      <td>1</td>\n",
       "      <td>0.0</td>\n",
       "    </tr>\n",
       "    <tr>\n",
       "      <th>440</th>\n",
       "      <td>2020-03-02</td>\n",
       "      <td>Hillsborough</td>\n",
       "      <td>Florida</td>\n",
       "      <td>12057.0</td>\n",
       "      <td>1</td>\n",
       "      <td>0.0</td>\n",
       "    </tr>\n",
       "    <tr>\n",
       "      <th>441</th>\n",
       "      <td>2020-03-02</td>\n",
       "      <td>Manatee</td>\n",
       "      <td>Florida</td>\n",
       "      <td>12081.0</td>\n",
       "      <td>1</td>\n",
       "      <td>0.0</td>\n",
       "    </tr>\n",
       "    <tr>\n",
       "      <th>474</th>\n",
       "      <td>2020-03-03</td>\n",
       "      <td>Hillsborough</td>\n",
       "      <td>Florida</td>\n",
       "      <td>12057.0</td>\n",
       "      <td>2</td>\n",
       "      <td>0.0</td>\n",
       "    </tr>\n",
       "    <tr>\n",
       "      <th>...</th>\n",
       "      <td>...</td>\n",
       "      <td>...</td>\n",
       "      <td>...</td>\n",
       "      <td>...</td>\n",
       "      <td>...</td>\n",
       "      <td>...</td>\n",
       "    </tr>\n",
       "    <tr>\n",
       "      <th>969581</th>\n",
       "      <td>2021-01-27</td>\n",
       "      <td>Unknown</td>\n",
       "      <td>Florida</td>\n",
       "      <td>NaN</td>\n",
       "      <td>3321</td>\n",
       "      <td>0.0</td>\n",
       "    </tr>\n",
       "    <tr>\n",
       "      <th>969582</th>\n",
       "      <td>2021-01-27</td>\n",
       "      <td>Volusia</td>\n",
       "      <td>Florida</td>\n",
       "      <td>12127.0</td>\n",
       "      <td>29740</td>\n",
       "      <td>528.0</td>\n",
       "    </tr>\n",
       "    <tr>\n",
       "      <th>969583</th>\n",
       "      <td>2021-01-27</td>\n",
       "      <td>Wakulla</td>\n",
       "      <td>Florida</td>\n",
       "      <td>12129.0</td>\n",
       "      <td>2892</td>\n",
       "      <td>38.0</td>\n",
       "    </tr>\n",
       "    <tr>\n",
       "      <th>969584</th>\n",
       "      <td>2021-01-27</td>\n",
       "      <td>Walton</td>\n",
       "      <td>Florida</td>\n",
       "      <td>12131.0</td>\n",
       "      <td>6164</td>\n",
       "      <td>66.0</td>\n",
       "    </tr>\n",
       "    <tr>\n",
       "      <th>969585</th>\n",
       "      <td>2021-01-27</td>\n",
       "      <td>Washington</td>\n",
       "      <td>Florida</td>\n",
       "      <td>12133.0</td>\n",
       "      <td>2393</td>\n",
       "      <td>31.0</td>\n",
       "    </tr>\n",
       "  </tbody>\n",
       "</table>\n",
       "<p>21334 rows × 6 columns</p>\n",
       "</div>"
      ],
      "text/plain": [
       "              date        county    state     fips  cases  deaths\n",
       "411     2020-03-01  Hillsborough  Florida  12057.0      1     0.0\n",
       "412     2020-03-01       Manatee  Florida  12081.0      1     0.0\n",
       "440     2020-03-02  Hillsborough  Florida  12057.0      1     0.0\n",
       "441     2020-03-02       Manatee  Florida  12081.0      1     0.0\n",
       "474     2020-03-03  Hillsborough  Florida  12057.0      2     0.0\n",
       "...            ...           ...      ...      ...    ...     ...\n",
       "969581  2021-01-27       Unknown  Florida      NaN   3321     0.0\n",
       "969582  2021-01-27       Volusia  Florida  12127.0  29740   528.0\n",
       "969583  2021-01-27       Wakulla  Florida  12129.0   2892    38.0\n",
       "969584  2021-01-27        Walton  Florida  12131.0   6164    66.0\n",
       "969585  2021-01-27    Washington  Florida  12133.0   2393    31.0\n",
       "\n",
       "[21334 rows x 6 columns]"
      ]
     },
     "execution_count": 10,
     "metadata": {},
     "output_type": "execute_result"
    }
   ],
   "source": [
    "filter_FL = us_counties.loc[us_counties['state'] == 'Florida', :]\n",
    "filter_FL"
   ]
  },
  {
   "cell_type": "code",
   "execution_count": 11,
   "metadata": {},
   "outputs": [],
   "source": [
    "filter_FL.to_csv(r'output_data/FL_Covid_data.csv', index=False)"
   ]
  },
  {
   "cell_type": "code",
   "execution_count": null,
   "metadata": {},
   "outputs": [],
   "source": []
  },
  {
   "cell_type": "code",
   "execution_count": null,
   "metadata": {},
   "outputs": [],
   "source": [
    "filter_counties = filter_CA.loc[(filter_CA['county'] == 'Los Angeles') & (filter_CA['county'] == 'Los Angeles')"
   ]
  },
  {
   "cell_type": "code",
   "execution_count": null,
   "metadata": {},
   "outputs": [],
   "source": [
    "month = filter_CA.groupby([filter_CA['date'].dt.year.rename('year'), \n",
    "                   filter_CA['date'].dt.month_name().rename('month')])['cases'].max().reset_index()"
   ]
  },
  {
   "cell_type": "code",
   "execution_count": null,
   "metadata": {},
   "outputs": [],
   "source": [
    "month"
   ]
  },
  {
   "cell_type": "code",
   "execution_count": null,
   "metadata": {},
   "outputs": [],
   "source": [
    "month = us_counties.groupby([us_counties['date'].dt.year.rename('year'), \n",
    "                   us_counties['date'].dt.month_name().rename('month')])['cases'].max().reset_index()"
   ]
  },
  {
   "cell_type": "code",
   "execution_count": null,
   "metadata": {},
   "outputs": [],
   "source": [
    "month"
   ]
  },
  {
   "cell_type": "code",
   "execution_count": null,
   "metadata": {},
   "outputs": [],
   "source": [
    "filter_CA = us_counties.loc[us_counties['state'] == 'California', :]\n",
    "filter_CA"
   ]
  },
  {
   "cell_type": "code",
   "execution_count": null,
   "metadata": {},
   "outputs": [],
   "source": [
    "months = filter_CA.groupby(filter_CA['date'].dt.strftime('%B'))['cases'].sum().sort_values()"
   ]
  },
  {
   "cell_type": "code",
   "execution_count": null,
   "metadata": {},
   "outputs": [],
   "source": [
    "months"
   ]
  },
  {
   "cell_type": "code",
   "execution_count": null,
   "metadata": {},
   "outputs": [],
   "source": [
    "check = pd.DataFrame(months)\n",
    "check"
   ]
  },
  {
   "cell_type": "code",
   "execution_count": null,
   "metadata": {},
   "outputs": [],
   "source": [
    "# filter_CA.index = pd.to_datetime(filter_CA['date'], format='%m/%d/%y %I:%M%p')\n",
    "# filter_CA.grouby(by=[b.index.month, b.index.year])"
   ]
  },
  {
   "cell_type": "code",
   "execution_count": null,
   "metadata": {},
   "outputs": [],
   "source": []
  },
  {
   "cell_type": "code",
   "execution_count": null,
   "metadata": {},
   "outputs": [],
   "source": []
  }
 ],
 "metadata": {
  "kernelspec": {
   "display_name": "Python 3",
   "language": "python",
   "name": "python3"
  },
  "language_info": {
   "codemirror_mode": {
    "name": "ipython",
    "version": 3
   },
   "file_extension": ".py",
   "mimetype": "text/x-python",
   "name": "python",
   "nbconvert_exporter": "python",
   "pygments_lexer": "ipython3",
   "version": "3.9.1"
  }
 },
 "nbformat": 4,
 "nbformat_minor": 4
}
