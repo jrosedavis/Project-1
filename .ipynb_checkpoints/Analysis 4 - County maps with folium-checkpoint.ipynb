{
 "cells": [
  {
   "cell_type": "code",
   "execution_count": null,
   "metadata": {
    "scrolled": true,
    "slideshow": {
     "slide_type": "skip"
    },
    "tags": [
     "hide-input"
    ]
   },
   "outputs": [],
   "source": [
    "# Dependencies and Setup\n",
    "import folium\n",
    "from folium.plugins import MarkerCluster\n",
    "import pandas as pd"
   ]
  },
  {
   "cell_type": "markdown",
   "metadata": {},
   "source": [
    "View output through JupyterNBViewer: [County Maps](https://nbviewer.jupyter.org/github/jrosedavis/Project-1/blob/main/Analysis%204%20-%20County%20maps%20with%20folium.ipynb)"
   ]
  },
  {
   "cell_type": "markdown",
   "metadata": {
    "slideshow": {
     "slide_type": "slide"
    }
   },
   "source": [
    "<font size=5>California - Los Angeles Metro</font>"
   ]
  },
  {
   "cell_type": "code",
   "execution_count": null,
   "metadata": {
    "slideshow": {
     "slide_type": "-"
    },
    "tags": [
     "hide-input"
    ]
   },
   "outputs": [],
   "source": [
    "#Define coordinates to where we want the center of the map to be\n",
    "los_angeles = [34.05, -118.24]\n",
    "CA_map = folium.Map(location = los_angeles, zoom_start = 7)\n",
    "\n",
    "#Circle Marker\n",
    "loc_LA = [34.05, -118.24]\n",
    "loc_riverside = [33.95, -117.39]\n",
    "loc_san_bernardino = [34.11, -117.30]\n",
    "folium.CircleMarker(loc_LA, radius=50, fill = True, fill_color = 'crimson').add_to(CA_map)\n",
    "folium.CircleMarker(loc_riverside, radius=50, fill = True, fill_color = 'crimson').add_to(CA_map)\n",
    "folium.CircleMarker(loc_san_bernardino, radius=50, fill = True, fill_color = 'crimson').add_to(CA_map)\n",
    "\n",
    "\n",
    "#Add coordinates for markers to be added to the map\n",
    "kern = [35.35, -119.03]\n",
    "inyo = [35.82, -117.88]\n",
    "ventura = [34.19, -118.87]\n",
    "orange = [33.68, -117.07]\n",
    "san_diego = [33.13, -117.07]\n",
    "imperial = [32.98, -115.53]\n",
    "\n",
    "folium.Marker(kern, popup = 'Kern County. Cases: 91762').add_to(CA_map)\n",
    "folium.Marker(inyo, popup = 'Inyo County. Cases: 1018').add_to(CA_map)\n",
    "folium.Marker(ventura, popup = 'Ventura County. Cases: 67533').add_to(CA_map)\n",
    "folium.Marker(orange, popup = 'Orange County. Cases: 240314').add_to(CA_map)\n",
    "folium.Marker(san_diego, popup = 'San Diego County. Cases: 231544').add_to(CA_map)\n",
    "folium.Marker(imperial, popup = 'Imperial County. Cases: 25812').add_to(CA_map)\n",
    "folium.Marker(loc_LA, popup = 'Los Angeles County. Cases: 1092134').add_to(CA_map)\n",
    "folium.Marker(loc_riverside, popup = 'Riverside County. Cases: 268490').add_to(CA_map)\n",
    "folium.Marker(loc_san_bernardino, popup = 'San Bernardino County. Cases: 269314').add_to(CA_map)\n",
    "\n",
    "CA_map"
   ]
  },
  {
   "cell_type": "markdown",
   "metadata": {
    "slideshow": {
     "slide_type": "slide"
    }
   },
   "source": [
    "<font size=5>Texas - Dallas Metro</font>"
   ]
  },
  {
   "cell_type": "code",
   "execution_count": null,
   "metadata": {
    "slideshow": {
     "slide_type": "slide"
    },
    "tags": [
     "hide-input"
    ]
   },
   "outputs": [],
   "source": [
    "#Define coordinates to where we want the center of the map to be\n",
    "dallas = [32.79, -96.770]\n",
    "TX_map = folium.Map(location = dallas, zoom_start = 9)\n",
    "\n",
    "#Circle Marker\n",
    "loc_dallas = [32.79, -96.770]\n",
    "loc_tarrant = [32.78, -97.35]\n",
    "folium.CircleMarker(loc_dallas, radius=100, fill = True, fill_color = 'crimson').add_to(TX_map)\n",
    "folium.CircleMarker(loc_tarrant, radius=100, fill = True, fill_color = 'crimson').add_to(TX_map)\n",
    "\n",
    "#Add coordinates for markers to be added to the map\n",
    "parker = [32.75, -97.77]\n",
    "wise = [33.23, -97.59]\n",
    "denton = [33.22, -97.14]\n",
    "collin = [33.20, -96.67]\n",
    "johnson = [32.35, -97.41]\n",
    "ellis = [32.42, -96.67]\n",
    "kaufman = [32.73, -96.29]\n",
    "rockwall = [32.92, -96.44]\n",
    "\n",
    "folium.Marker(parker, popup = 'Parker County. Cases: 12600').add_to(TX_map)\n",
    "folium.Marker(wise, popup = 'Wise County. Cases: 5994').add_to(TX_map)\n",
    "folium.Marker(denton, popup = 'Denton County. Cases: 51857').add_to(TX_map)\n",
    "folium.Marker(collin, popup = 'Collin County. Cases: 70414').add_to(TX_map)\n",
    "folium.Marker(johnson, popup = 'Johnson County. Cases: 15800').add_to(TX_map)\n",
    "folium.Marker(ellis, popup = 'Ellis County. Cases: 18139').add_to(TX_map)\n",
    "folium.Marker(kaufman, popup = 'Kaufman County. Cases: 12688').add_to(TX_map)\n",
    "folium.Marker(rockwall, popup = 'Rockwall County. Cases: 9082').add_to(TX_map)\n",
    "folium.Marker(loc_dallas, popup = 'Dallas County. Cases: 252047').add_to(TX_map)\n",
    "folium.Marker(loc_tarrant, popup = 'Tarrant County. Cases: 211076').add_to(TX_map)\n",
    "\n",
    "TX_map"
   ]
  },
  {
   "cell_type": "markdown",
   "metadata": {
    "slideshow": {
     "slide_type": "slide"
    }
   },
   "source": [
    "<font size=5>Texas - Houston Metro</font>"
   ]
  },
  {
   "cell_type": "code",
   "execution_count": null,
   "metadata": {
    "slideshow": {
     "slide_type": "fragment"
    },
    "tags": [
     "hide-input"
    ]
   },
   "outputs": [],
   "source": [
    "#Define coordinates to where we want the center of the map to be\n",
    "houston = [29.78, -95.39]\n",
    "TX_Hmap = folium.Map(location = houston, zoom_start = 9)\n",
    "\n",
    "#Circle Marker\n",
    "loc_harris = [29.78, -95.39]\n",
    "folium.CircleMarker(loc_harris, radius=100, fill = True, fill_color = 'crimson').add_to(TX_Hmap)\n",
    "\n",
    "\n",
    "#Add coordinates for markers to be added to the map\n",
    "montgomery = [30.32, -95.47]\n",
    "liberty = [30.04, -94.90]\n",
    "chambers = [29.73, -94.85]\n",
    "galveston = [29.49, -95.11]\n",
    "brazoria = [29.17, -95.43]\n",
    "fort_bend = [29.54, -95.81]\n",
    "waller = [30.10, -96.08]\n",
    "\n",
    "folium.Marker(montgomery, popup = 'Montgomery County. Cases: 57729').add_to(TX_Hmap)\n",
    "folium.Marker(liberty, popup = 'Liberty County. Cases: 5623').add_to(TX_Hmap)\n",
    "folium.Marker(chambers, popup = 'Chambers County. Cases: 3721').add_to(TX_Hmap)\n",
    "folium.Marker(galveston, popup = 'Galveston County. Cases: 29485').add_to(TX_Hmap)\n",
    "folium.Marker(brazoria, popup = 'Brazoria County. Cases: 27709').add_to(TX_Hmap)\n",
    "folium.Marker(fort_bend, popup = 'Fort Bend County. Cases: 48982').add_to(TX_Hmap)\n",
    "folium.Marker(waller, popup = 'Waller County. Cases: 2886').add_to(TX_Hmap)\n",
    "folium.Marker(loc_harris, popup = 'Harris County. Cases: 306495').add_to(TX_Hmap)\n",
    "\n",
    "\n",
    "TX_Hmap"
   ]
  },
  {
   "cell_type": "markdown",
   "metadata": {
    "slideshow": {
     "slide_type": "slide"
    }
   },
   "source": [
    "<font size=5>Florida - Miami-Dade Metro</font>"
   ]
  },
  {
   "cell_type": "code",
   "execution_count": null,
   "metadata": {
    "slideshow": {
     "slide_type": "subslide"
    },
    "tags": [
     "hide-input"
    ]
   },
   "outputs": [],
   "source": [
    "#Define coordinates to where we want the center of the map to be\n",
    "boca_raton = [26.37, -80.11]\n",
    "FL_map = folium.Map(location = boca_raton, zoom_start = 8)\n",
    "\n",
    "#Circle Marker\n",
    "loc_miami = [25.82, -80.14]\n",
    "loc_broward = [26.08, -80.29]\n",
    "loc_palm_beach = [26.75, -80.16]\n",
    "folium.CircleMarker(loc_miami, radius=50, fill = True, fill_color = 'crimson').add_to(FL_map)\n",
    "folium.CircleMarker(loc_broward, radius=50, fill = True, fill_color = 'crimson').add_to(FL_map)\n",
    "folium.CircleMarker(loc_palm_beach, radius=50, fill = True, fill_color = 'crimson').add_to(FL_map)\n",
    "\n",
    "\n",
    "#Add coordinates for markers to be added to the map\n",
    "monroe = [25.12, -80.41]\n",
    "collier = [26.18, -81.70]\n",
    "lee = [26.62, -81.74]\n",
    "hendry = [26.75, -80.94]\n",
    "glades = [27.13, -80.89]\n",
    "okeechobee = [27.22, -80.79]\n",
    "martin = [27.17, -80.29]\n",
    "\n",
    "folium.Marker(monroe, popup = 'Monroe County. Cases: 46842').add_to(FL_map)\n",
    "folium.Marker(collier, popup = 'Collier County. Cases: 27214').add_to(FL_map)\n",
    "folium.Marker(lee, popup = 'Lee County. Cases: 51454').add_to(FL_map)\n",
    "folium.Marker(hendry, popup = 'Hendry County. Cases: 3991').add_to(FL_map)\n",
    "folium.Marker(glades, popup = 'Glades Diego County. Cases: 860').add_to(FL_map)\n",
    "folium.Marker(okeechobee, popup = 'Okeechobee County. Cases: 3177').add_to(FL_map)\n",
    "folium.Marker(martin, popup = 'Martin County. Cases: 9441').add_to(FL_map)\n",
    "folium.Marker(loc_miami, popup = 'Miami-Dade County. Cases: 364122 ').add_to(FL_map)\n",
    "folium.Marker(loc_broward, popup = 'Broward County. Cases: 168653').add_to(FL_map)\n",
    "folium.Marker(loc_palm_beach, popup = 'Palm Beach County. Cases: 103860').add_to(FL_map)\n",
    "\n",
    "FL_map"
   ]
  }
 ],
 "metadata": {
  "hide_input": false,
  "kernelspec": {
   "display_name": "Python 3",
   "language": "python",
   "name": "python3"
  },
  "language_info": {
   "codemirror_mode": {
    "name": "ipython",
    "version": 3
   },
   "file_extension": ".py",
   "mimetype": "text/x-python",
   "name": "python",
   "nbconvert_exporter": "python",
   "pygments_lexer": "ipython3",
   "version": "3.9.1"
  },
  "varInspector": {
   "cols": {
    "lenName": 16,
    "lenType": 16,
    "lenVar": 40
   },
   "kernels_config": {
    "python": {
     "delete_cmd_postfix": "",
     "delete_cmd_prefix": "del ",
     "library": "var_list.py",
     "varRefreshCmd": "print(var_dic_list())"
    },
    "r": {
     "delete_cmd_postfix": ") ",
     "delete_cmd_prefix": "rm(",
     "library": "var_list.r",
     "varRefreshCmd": "cat(var_dic_list()) "
    }
   },
   "types_to_exclude": [
    "module",
    "function",
    "builtin_function_or_method",
    "instance",
    "_Feature"
   ],
   "window_display": false
  }
 },
 "nbformat": 4,
 "nbformat_minor": 4
}
